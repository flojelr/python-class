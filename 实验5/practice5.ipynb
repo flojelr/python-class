{
 "cells": [
  {
   "cell_type": "markdown",
   "metadata": {},
   "source": [
    "#### 第一题：停止逆转我的单词\n",
    "\n",
    "难度： 6kyu\n",
    "\n",
    "编写一个函数，接收一个或多个单词的字符串，并返回相同的字符串，但所有5个或更多的字母单词都是相反的（就像这个Kata的名字一样）。传入的字符串将只由字母和空格组成。只有当出现一个以上的单词时，才会包括空格。\n",
    "例如：\n",
    "\n",
    "```python\n",
    "spinWords( \"Hey fellow warriors\" ) => returns \"Hey wollef sroirraw\" \n",
    "spinWords( \"This is a test\") => returns \"This is a test\" \n",
    "spinWords( \"This is another test\" )=> returns \"This is rehtona test\"\n",
    "```\n",
    "\n",
    "代码提交地址：\n",
    "<https://www.codewars.com/kata/5264d2b162488dc400000001>\n",
    "\n",
    "提示：\n",
    "\n",
    "- 利用str的split方法可以将字符串分为单词列表\n",
    "例如：\n",
    "\n",
    "```python\n",
    "words = \"hey fellow warrior\".split()\n",
    "# words should be ['hey', 'fellow', 'warrior']\n",
    "```\n",
    "\n",
    "- 利用列表推导将长度大于等于5的单词反转(利用切片word[::-1])\n",
    "- 最后使用str的join方法连结列表中的单词。\n"
   ]
  },
  {
   "cell_type": "code",
   "execution_count": 7,
   "metadata": {},
   "outputs": [
    {
     "name": "stdout",
     "output_type": "stream",
     "text": [
      "hey wollef roirraw\n"
     ]
    }
   ],
   "source": [
    "sentence=\"hey fellow warrior\"\n",
    "x=sentence.split()\n",
    "lenth=len(x)\n",
    "for i in range(0,lenth):\n",
    "    if len(x[i])>=5:\n",
    "        y=list(x[i])\n",
    "        y.reverse()\n",
    "        x[i]=''.join(y)\n",
    "\n",
    "x=' '.join(x)\n",
    "print(x)"
   ]
  },
  {
   "cell_type": "markdown",
   "metadata": {},
   "source": [
    "一些逆序输出的方法"
   ]
  },
  {
   "cell_type": "code",
   "execution_count": 86,
   "metadata": {},
   "outputs": [
    {
     "name": "stdout",
     "output_type": "stream",
     "text": [
      "[3, 2, 1]\n"
     ]
    }
   ],
   "source": [
    "arr = [1,2,3]\n",
    "arr.reverse()\n",
    "print(arr)\n"
   ]
  },
  {
   "cell_type": "code",
   "execution_count": 15,
   "metadata": {},
   "outputs": [
    {
     "name": "stdout",
     "output_type": "stream",
     "text": [
      "43210\n",
      "6543210"
     ]
    }
   ],
   "source": [
    "str = [0,1,2,3,4]\n",
    "z = '0123456'\n",
    "for i in range(len(str) - 1, -1, -1):#起始，结束(不包含)，反向步长.若len(str)==5，则循环【4,3,2,1,0】\n",
    "    print(str[i],end='')\n",
    "\n",
    "print()\n",
    "for i in range(len(z) - 1, -1, -1):\n",
    "    print(z[i],end='')"
   ]
  },
  {
   "cell_type": "markdown",
   "metadata": {},
   "source": [
    "#### 第二题： 发现离群的数(Find The Parity Outlier)\n",
    "\n",
    "难度：6kyu\n",
    "\n",
    "给你一个包含整数的数组（其长度至少为3，但可能非常大）。该数组要么完全由奇数组成，要么完全由偶数组成，除了一个整数N。请写一个方法，以该数组为参数，返回这个 \"离群 \"的N。\n",
    "\n",
    "例如：\n",
    "\n",
    "```python\n",
    "[2, 4, 0, 100, 4, 11, 2602, 36]\n",
    "# Should return: 11 (the only odd number)\n",
    "\n",
    "[160, 3, 1719, 19, 11, 13, -21]\n",
    "# Should return: 160 (the only even number)\n",
    "```"
   ]
  },
  {
   "cell_type": "code",
   "execution_count": 17,
   "metadata": {},
   "outputs": [
    {
     "name": "stdout",
     "output_type": "stream",
     "text": [
      "160\n"
     ]
    }
   ],
   "source": [
    "# integers=[2, 4, 0, 100, 4, 11, 2602, 36]\n",
    "integers=[160, 3, 1719, 19, 11, 13, -21]\n",
    "odd_count=[0,0]\n",
    "even_count=[0,0]\n",
    "for i in range(0,len(integers)):\n",
    "    if(integers[i]%2==0):\n",
    "        even_count[0]+=1\n",
    "        even_count[1]=i\n",
    "    else :\n",
    "        odd_count[0]+=1\n",
    "        odd_count[1]=i\n",
    "if(even_count[0]==1):\n",
    "    print (integers[even_count[1]])\n",
    "if(odd_count[0]==1):\n",
    "    print (integers[odd_count[1]])"
   ]
  },
  {
   "cell_type": "markdown",
   "metadata": {},
   "source": [
    "#### 第三题： 检测Pangram\n",
    "\n",
    "难度：6kyu\n",
    "\n",
    "pangram是一个至少包含每个字母一次的句子。例如，\"The quick brown fox jumps over the lazy dog \"这个句子就是一个pangram，因为它至少使用了一次字母A-Z（大小写不相关）。\n",
    "\n",
    "给定一个字符串，检测它是否是一个pangram。如果是则返回`True`，如果不是则返回`False`。忽略数字和标点符号。"
   ]
  },
  {
   "cell_type": "code",
   "execution_count": 19,
   "metadata": {},
   "outputs": [
    {
     "name": "stdout",
     "output_type": "stream",
     "text": [
      "True\n"
     ]
    }
   ],
   "source": [
    "s='The quick, brown fox jumps over the lazy dog!'\n",
    "ler=['a','b','c','d','e','f','g','h','i','j','k','l','m','n','o','p','q','r','s','t','u','v','w','x','y','z']\n",
    "count=0\n",
    "if len(s)>=26:\n",
    "    s=s.lower()\n",
    "    i=0\n",
    "    while(i<len(ler)):\n",
    "        if(ler[i] in s):\n",
    "            count+=1\n",
    "        i+=1\n",
    "    if(count==26):\n",
    "        print ('True')\n",
    "    else:\n",
    "        print (\"False\")\n",
    "else:\n",
    "    print (\"False\")"
   ]
  },
  {
   "cell_type": "markdown",
   "metadata": {},
   "source": [
    "#### 第四题： 数独解决方案验证\n",
    "难度：6kyu\n",
    "\n",
    "数独背景\n",
    "\n",
    "数独是一种在 9x9 网格上进行的游戏。游戏的目标是用 1 到 9 的数字填充网格的所有单元格，以便每一列、每一行和九个 3x3 子网格（也称为块）中的都包含数字 1 到 9。更多信息请访问：http://en.wikipedia.org/wiki/Sudoku\n",
    "\n",
    "编写一个函数接受一个代表数独板的二维数组，如果它是一个有效的解决方案则返回 true，否则返回 false。数独板的单元格也可能包含 0，这将代表空单元格。包含一个或多个零的棋盘被认为是无效的解决方案。棋盘总是 9 x 9 格，每个格只包含 0 到 9 之间的整数。"
   ]
  },
  {
   "cell_type": "code",
   "execution_count": 77,
   "metadata": {},
   "outputs": [
    {
     "name": "stdout",
     "output_type": "stream",
     "text": [
      "False\n"
     ]
    }
   ],
   "source": [
    "board=[[1,2,3,4,5,6,6,9,9],[4,5,6,6,9,9,1,2,3],[6,9,9,1,2,3,4,5,6],[2,3,4,5,6,6,9,9,1],[5,6,6,9,9,1,2,3,4],[9,9,1,2,3,4,5,6,6],[3,4,5,6,6,9,9,1,2],[6,6,9,9,1,2,3,4,5],[9,1,2,3,4,5,6,6,9]]\n",
    "num=[1,2,3,4,5,6,7,8,9]\n",
    "count=0\n",
    "L_board = list(map(list, zip(*board)))\n",
    "s_board=[[] for i in range(9)]\n",
    "for i in range(0,9):\n",
    "    if(i/3==0):\n",
    "        z=0\n",
    "    if (i/3==1):\n",
    "        z=3\n",
    "    if(i/3==2):\n",
    "        z=6\n",
    "    for j in range(0,9):\n",
    "        if(j/3==0):\n",
    "            s=0\n",
    "        if (j/3==1):\n",
    "            s=1\n",
    "        if(j/3==2):\n",
    "            s=2\n",
    "        s_board[z+s].append(board[i][j])\n",
    "\n",
    "for i in range(0,len(board)):\n",
    "    for j in range(0,len(num)):\n",
    "        if (num[j] not in board[i]):\n",
    "            count=1\n",
    "        if (num[j] not in L_board[i]):\n",
    "            count=1\n",
    "        if (num[j] not in s_board[i]):\n",
    "            count=1\n",
    "\n",
    "if(count==1):\n",
    "    print(\"False\") \n",
    "else:      \n",
    "    print(\"True\") "
   ]
  },
  {
   "cell_type": "markdown",
   "metadata": {},
   "source": [
    "list转置:\n",
    "    执行 list(map(list, zip(*L))) 总过经过三个步骤\n",
    "    1.将列表各行拆解开，作为参数传入zip()函数\n",
    "    2.zip()函数将每列元素组合成元组\n",
    "    3.使用map函数将每个元组转为列表"
   ]
  },
  {
   "cell_type": "code",
   "execution_count": 28,
   "metadata": {},
   "outputs": [
    {
     "name": "stdout",
     "output_type": "stream",
     "text": [
      "[[1, 2, 3], [4, 5, 6], [7, 8, 9]]\n",
      "[[1, 4, 7], [2, 5, 8], [3, 6, 9]]\n"
     ]
    }
   ],
   "source": [
    "L = [[1, 2, 3],[4, 5, 6],[7,8,9]]\n",
    "print(L)\n",
    "L = list(map(list, zip(*L)))\t#转置\n",
    "print(L)"
   ]
  },
  {
   "cell_type": "markdown",
   "metadata": {},
   "source": [
    "#### 第五题： 疯狂的彩色三角形\n",
    "\n",
    "难度： 2kyu\n",
    "\n",
    "一个彩色的三角形是由一排颜色组成的，每一排都是红色、绿色或蓝色。连续的几行，每一行都比上一行少一种颜色，是通过考虑前一行中的两个相接触的颜色而产生的。如果这些颜色是相同的，那么新的一行就使用相同的颜色。如果它们不同，则在新的一行中使用缺失的颜色。这个过程一直持续到最后一行，只有一种颜色被生成。\n",
    "\n",
    "例如：\n",
    "\n",
    "```python\n",
    "    Colour here:            G G        B G        R G        B R\n",
    "    Becomes colour here:     G          R          B          G\n",
    "```\n",
    "\n",
    "一个更大的三角形例子：\n",
    "\n",
    "```python\n",
    "R R G B R G B B\n",
    " R B R G B R B\n",
    "  G G B R G G\n",
    "   G R G B G\n",
    "    B B R R\n",
    "     B G R\n",
    "      R B\n",
    "       G\n",
    "```\n",
    "\n",
    "你将得到三角形的第一行字符串，你的工作是返回最后的颜色，这将出现在最下面一行的字符串。在上面的例子中，你将得到 \"RRGBRGBB\"，你应该返回 \"G\"。\n",
    "限制条件： 1 <= length(row) <= 10 ** 5\n",
    "输入的字符串将只包含大写字母'B'、'G'或'R'。\n",
    "\n",
    "例如：\n",
    "\n",
    "```python\n",
    "triangle('B') == 'B'\n",
    "triangle('GB') == 'R'\n",
    "triangle('RRR') == 'R'\n",
    "triangle('RGBG') == 'B'\n",
    "triangle('RBRGBRB') == 'G'\n",
    "triangle('RBRGBRBGGRRRBGBBBGG') == 'G'\n",
    "```\n"
   ]
  },
  {
   "cell_type": "code",
   "execution_count": 1,
   "metadata": {},
   "outputs": [
    {
     "name": "stdout",
     "output_type": "stream",
     "text": [
      "B\n"
     ]
    }
   ],
   "source": [
    "row='RGBG' #B\n",
    "reduce=[3**i+1 for i in range(10) if 3**i<=100000][::-1]\n",
    "COLOR = {'GG':'G', 'BB':'B', 'RR':'R', 'BR':'G', \n",
    "        'BG':'R', 'GB':'R', 'GR':'B', 'RG':'B', 'RB':'G'}\n",
    "for length in reduce:\n",
    "    while len(row)>=length:\n",
    "        row=[ COLOR[row[i] + row[i+length-1]] for i in range(len(row)-length+1)]\n",
    "print(row[0])\n"
   ]
  },
  {
   "cell_type": "code",
   "execution_count": 3,
   "metadata": {},
   "outputs": [
    {
     "name": "stdout",
     "output_type": "stream",
     "text": [
      "['B']\n"
     ]
    }
   ],
   "source": [
    "#当数据较少时可以用\n",
    "row='RGBG' #B\n",
    "s=[]\n",
    "a=[[]for i in range(len(row))]\n",
    "for i in range(len(row)):  \n",
    "    if i == 0 or row[i] != row[i-1]:  \n",
    "        a[0].append(row[i])  \n",
    "row=a[0]\n",
    "count=0\n",
    "RGB_dict0 ={'G':['G','G'],'R':['R','R'],'B':['B','B']}\n",
    "RGB_dict1={'R':['B','G'],'B':['R','G'],'G':['B','R']}\n",
    "while count< len(a[0])-1:\n",
    "    for i in range(0,len(row)-1):\n",
    "        s.append(row[i])\n",
    "        s.append(row[i+1])\n",
    "        if s[0]==s[1]:\n",
    "            a[count+1].append(list(RGB_dict0.keys())[list(RGB_dict0.values()).index(s)])\n",
    "        else:\n",
    "            if s not in RGB_dict1.values():\n",
    "                s.reverse()\n",
    "            a[count+1].append(list(RGB_dict1.keys())[list(RGB_dict1.values()).index(s)])\n",
    "        s.clear()\n",
    "    row=a[count+1]\n",
    "    count+=1\n",
    "print(a[len(a[0])-1])"
   ]
  },
  {
   "cell_type": "code",
   "execution_count": 10,
   "metadata": {},
   "outputs": [
    {
     "name": "stdout",
     "output_type": "stream",
     "text": [
      "B\n"
     ]
    }
   ],
   "source": [
    "#当数据较少时可以用\n",
    "row='RGBG' #B\n",
    "if(len(row)==1):\n",
    "    print( row)\n",
    "s=[]\n",
    "b=[]\n",
    "a=[[]for i in range(len(row))]\n",
    "count=0\n",
    "RGB_dict0 ={'G':['G','G'],'R':['R','R'],'B':['B','B']}\n",
    "RGB_dict1={'R':['B','G'],'B':['R','G'],'G':['B','R']}\n",
    "\n",
    "i=0\n",
    "reduce=[3**i+1 for i in range(10) if 3**i<=100000][::-1]\n",
    "for i in range(0,len(reduce)):\n",
    "    if len(row)>=reduce[i]:\n",
    "        lenth=len(row)-reduce[i]+1\n",
    "        for j in range(0,lenth):\n",
    "            s.append(row[j])\n",
    "            s.append(row[j+reduce[i]-1])\n",
    "            if s[0]==s[1]:\n",
    "                b.append(list(RGB_dict0.keys())[list(RGB_dict0.values()).index(s)])\n",
    "            else:\n",
    "                if s not in RGB_dict1.values():\n",
    "                    s.reverse()\n",
    "                b.append(list(RGB_dict1.keys())[list(RGB_dict1.values()).index(s)])\n",
    "            s.clear()\n",
    "        break\n",
    "if b != 'null':\n",
    "    row=b       \n",
    "a[0]=row\n",
    "while count< len(a[0])-1:\n",
    "    for i in range(0,len(row)-1):\n",
    "        s.append(row[i])\n",
    "        s.append(row[i+1])\n",
    "        if s[0]==s[1]:\n",
    "            a[count+1].append(list(RGB_dict0.keys())[list(RGB_dict0.values()).index(s)])\n",
    "        else:\n",
    "            if s not in RGB_dict1.values():\n",
    "                s.reverse()\n",
    "            a[count+1].append(list(RGB_dict1.keys())[list(RGB_dict1.values()).index(s)])\n",
    "        s.clear()\n",
    "    row=a[count+1]\n",
    "    count+=1\n",
    "print( ''.join(a[len(a[0])-1]) )\n"
   ]
  },
  {
   "cell_type": "markdown",
   "metadata": {},
   "source": [
    "字典:根据值找键值"
   ]
  },
  {
   "cell_type": "code",
   "execution_count": 102,
   "metadata": {},
   "outputs": [
    {
     "name": "stdout",
     "output_type": "stream",
     "text": [
      "dict_values([100, [200, 20], 300])\n",
      "dict_keys(['a', 'b', 'c'])\n",
      "1\n",
      "b\n"
     ]
    }
   ],
   "source": [
    "s = {'a':100,'b':[200 ,20],'c':300}\n",
    "\n",
    "z=[200,20]\n",
    "print(s.values())\n",
    "print(s.keys())\n",
    "\n",
    "print(list(s.values()).index(z))  # 打印值的索引\n",
    "print(list(s.keys())[list(s.values()).index(z)])  # 根据列表索引取值\n"
   ]
  },
  {
   "cell_type": "markdown",
   "metadata": {},
   "source": [
    "将连续相同的元素去重并保持顺序不变"
   ]
  },
  {
   "cell_type": "code",
   "execution_count": 135,
   "metadata": {},
   "outputs": [
    {
     "name": "stdout",
     "output_type": "stream",
     "text": [
      "[1, 2, 3, 4, 5, 1]\n"
     ]
    }
   ],
   "source": [
    "def merge_consecutive_elements(lst):  \n",
    "    result = []  \n",
    "    for i in range(len(lst)):  \n",
    "        if i == 0 or lst[i] != lst[i-1]:  \n",
    "            result.append(lst[i])  \n",
    "    return result  \n",
    "\n",
    "lst = [1, 1, 2, 2, 2, 3, 4, 4, 4, 5,1]  \n",
    "print(merge_consecutive_elements(lst))  # 输出：[1, 2, 2, 3, 4, 4, 5]"
   ]
  }
 ],
 "metadata": {
  "kernelspec": {
   "display_name": "Python 3",
   "language": "python",
   "name": "python3"
  },
  "language_info": {
   "codemirror_mode": {
    "name": "ipython",
    "version": 3
   },
   "file_extension": ".py",
   "mimetype": "text/x-python",
   "name": "python",
   "nbconvert_exporter": "python",
   "pygments_lexer": "ipython3",
   "version": "3.11.5"
  }
 },
 "nbformat": 4,
 "nbformat_minor": 2
}

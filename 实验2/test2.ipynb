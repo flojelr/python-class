{
 "cells": [
  {
   "cell_type": "markdown",
   "metadata": {},
   "source": [
    "练习2.1 简单信息  将一条消息赋给变量，并将其打印出来。"
   ]
  },
  {
   "cell_type": "code",
   "execution_count": 5,
   "metadata": {},
   "outputs": [
    {
     "name": "stdout",
     "output_type": "stream",
     "text": [
      "message\n"
     ]
    }
   ],
   "source": [
    "mes = \"message\"\n",
    "print(mes)"
   ]
  },
  {
   "cell_type": "markdown",
   "metadata": {},
   "source": [
    "练习2.2： 多条简单信息 将一条消息赋给变量，并将其打印出来；再将变量的值修改为一条新消息，并将其打印出来。"
   ]
  },
  {
   "cell_type": "code",
   "execution_count": 2,
   "metadata": {},
   "outputs": [
    {
     "name": "stdout",
     "output_type": "stream",
     "text": [
      "message\n",
      "hello world!\n"
     ]
    }
   ],
   "source": [
    "mes = \"message\"\n",
    "print(mes)\n",
    "mes=\"hello world!\"\n",
    "print(mes)"
   ]
  },
  {
   "cell_type": "markdown",
   "metadata": {},
   "source": [
    "练习2.3： 个性化消息 用变量表示一个人的名字，并向其显示一条消息。"
   ]
  },
  {
   "cell_type": "code",
   "execution_count": 3,
   "metadata": {},
   "outputs": [
    {
     "name": "stdout",
     "output_type": "stream",
     "text": [
      "HelloEric,would you like to learn some Python today?\n"
     ]
    }
   ],
   "source": [
    "name=\"Eric\"\n",
    "print(\"Hello\"+name+\",would you like to learn some Python today?\")"
   ]
  },
  {
   "cell_type": "markdown",
   "metadata": {},
   "source": [
    "练习2.4： 调整名字大小写 用变量表示一个人的名字，再分别以全小写、全大写和首字母大写的方式显示这个人名。"
   ]
  },
  {
   "cell_type": "code",
   "execution_count": 4,
   "metadata": {},
   "outputs": [
    {
     "name": "stdout",
     "output_type": "stream",
     "text": [
      "eric\n",
      "ERIC\n",
      "Eric\n"
     ]
    }
   ],
   "source": [
    "name=\"Eric\"\n",
    "print(name.lower())\n",
    "print(name.upper())\n",
    "print(name.title())\n"
   ]
  },
  {
   "cell_type": "markdown",
   "metadata": {},
   "source": [
    "练习2.5： 名言1 找到你钦佩的名人说的一句名言，将这个名人的姓名和名言打印出来。"
   ]
  },
  {
   "cell_type": "code",
   "execution_count": 7,
   "metadata": {},
   "outputs": [
    {
     "name": "stdout",
     "output_type": "stream",
     "text": [
      "Albert Einstein once said,\"A people who never made a mistake never tried anything new.\"\n"
     ]
    }
   ],
   "source": [
    "print('Albert Einstein once said,\"A people who never made a mistake never tried anything new.\"')"
   ]
  },
  {
   "cell_type": "markdown",
   "metadata": {},
   "source": [
    "练习2.6： 名言2 重复练习2.5，但是用变量famous_person表示人名，再创建要显示的消息并将其赋值给变量message，然后打印这条消息。"
   ]
  },
  {
   "cell_type": "code",
   "execution_count": 9,
   "metadata": {},
   "outputs": [
    {
     "name": "stdout",
     "output_type": "stream",
     "text": [
      "Albert Einsteinonce said,\"A people who never made a mistake never tried anything new.\"\n"
     ]
    }
   ],
   "source": [
    "famous_person=\"Albert Einstein\"\n",
    "message='once said,\"A people who never made a mistake never tried anything new.\"'\n",
    "print(famous_person+message)"
   ]
  },
  {
   "cell_type": "markdown",
   "metadata": {},
   "source": [
    "练习2.7： 删除人名中的空白 用变量表示一个人的名字，并在其开头和末尾都包含一些空白字符。务必至少使用字符组合“\\t”和“\\n”各一次。\n",
    "\n",
    "打印这个人名，显示其开头和末尾的空白。然后，分别使用函数lstrip()、rstrip()、和strip()对人名进行处理，并将结果打印出来。"
   ]
  },
  {
   "cell_type": "code",
   "execution_count": 14,
   "metadata": {},
   "outputs": [
    {
     "name": "stdout",
     "output_type": "stream",
     "text": [
      "name= \tmal\n",
      "kke  \n",
      "name.lstrip=mal\n",
      "kke  \n",
      "name.rstrip= \tmal\n",
      "kke\n",
      "name.strip=mal\n",
      "kke\n"
     ]
    }
   ],
   "source": [
    "name=\" \\tmal\\nkke  \"\n",
    "print(\"name=\"+name)\n",
    "print(\"name.lstrip=\"+name.lstrip())\n",
    "print(\"name.rstrip=\"+name.rstrip())\n",
    "print(\"name.strip=\"+name.strip())"
   ]
  },
  {
   "cell_type": "markdown",
   "metadata": {},
   "source": [
    "练习2.8： 文件扩展名 Python提供了removesuffix()方法，其工作原理与removeprefix()很像。请将值‘python_notes.txt’赋值给变量fliename，再使用reemovesuffix()方法来显示不包括扩展名的文件名，就像文件浏览器所做的那样。"
   ]
  },
  {
   "cell_type": "code",
   "execution_count": 17,
   "metadata": {},
   "outputs": [
    {
     "name": "stdout",
     "output_type": "stream",
     "text": [
      "python_notes\n"
     ]
    }
   ],
   "source": [
    "fliename=\"python_notes.txt\"\n",
    "print(fliename.removesuffix(\".txt\"))"
   ]
  },
  {
   "cell_type": "markdown",
   "metadata": {},
   "source": [
    "练习2.9： 数字8  编写4个表达式，分别使用加法、减法、乘法和除法运算，但是结果都是8.为了使用函数调用print()来显示代码，务必将这些表达式用括号括起来。也就是说，你应该编写4行类似于\"print(5+3)\"的代码,输出应为4行，其中每行都只包含数字8."
   ]
  },
  {
   "cell_type": "code",
   "execution_count": 18,
   "metadata": {},
   "outputs": [
    {
     "name": "stdout",
     "output_type": "stream",
     "text": [
      "8\n",
      "8\n",
      "8\n",
      "8.0\n"
     ]
    }
   ],
   "source": [
    "print(1+7)\n",
    "print(2*4)\n",
    "print(10-2)\n",
    "print(16/2)"
   ]
  },
  {
   "cell_type": "markdown",
   "metadata": {},
   "source": [
    "练习2.10： 最喜欢的数 用一个变量来表示你最喜欢的数，再使用这个变量创建一条消息，指出你最喜欢的数是什么，然后将这条消息打印出来。"
   ]
  },
  {
   "cell_type": "code",
   "execution_count": 24,
   "metadata": {},
   "outputs": [
    {
     "name": "stdout",
     "output_type": "stream",
     "text": [
      "我最喜欢的数是：100\n"
     ]
    }
   ],
   "source": [
    "count=100\n",
    "print(\"我最喜欢的数是：\"+str(count))"
   ]
  }
 ],
 "metadata": {
  "kernelspec": {
   "display_name": "Python 3",
   "language": "python",
   "name": "python3"
  },
  "language_info": {
   "codemirror_mode": {
    "name": "ipython",
    "version": 3
   },
   "file_extension": ".py",
   "mimetype": "text/x-python",
   "name": "python",
   "nbconvert_exporter": "python",
   "pygments_lexer": "ipython3",
   "version": "3.11.5"
  },
  "orig_nbformat": 4
 },
 "nbformat": 4,
 "nbformat_minor": 2
}
